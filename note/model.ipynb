{
 "cells": [
  {
   "cell_type": "code",
   "execution_count": 1,
   "metadata": {},
   "outputs": [],
   "source": [
    "import pandas as pd\n",
    "import numpy as np\n",
    "\n",
    "from sklearn.model_selection import train_test_split\n",
    "\n",
    "from sklearn.neighbors import KNeighborsRegressor\n",
    "from sklearn.linear_model import LinearRegression, Ridge, Lasso\n",
    "from sklearn.tree import DecisionTreeRegressor\n",
    "from sklearn.ensemble import RandomForestRegressor, AdaBoostRegressor\n",
    "from sklearn.metrics import mean_squared_error,r2_score,mean_absolute_error\n",
    "from sklearn.model_selection import RandomizedSearchCV"
   ]
  },
  {
   "cell_type": "code",
   "execution_count": 2,
   "metadata": {},
   "outputs": [],
   "source": [
    "bmw=pd.read_csv(\"car_data/bmw.csv\")\n",
    "audi=pd.read_csv(\"car_data/audi.csv\")\n",
    "ford=pd.read_csv(\"car_data/ford.csv\")\n",
    "hyundi=pd.read_csv(\"car_data/hyundi.csv\")\n",
    "benz=pd.read_csv(\"car_data/merc.csv\")\n",
    "toyota=pd.read_csv(\"car_data/toyota.csv\")\n"
   ]
  },
  {
   "cell_type": "code",
   "execution_count": 3,
   "metadata": {},
   "outputs": [],
   "source": [
    "hyundi.rename(columns={'tax(£)': 'tax'}, inplace=True)\n",
    "\n",
    "frames = [bmw,audi,ford,hyundi,benz,toyota]\n",
    "merged = pd.concat(frames)"
   ]
  },
  {
   "cell_type": "code",
   "execution_count": 4,
   "metadata": {},
   "outputs": [],
   "source": [
    "merged.drop_duplicates(inplace=True)"
   ]
  },
  {
   "cell_type": "markdown",
   "metadata": {},
   "source": [
    "### One Hot & Standardize"
   ]
  },
  {
   "cell_type": "code",
   "execution_count": 5,
   "metadata": {},
   "outputs": [],
   "source": [
    "merge_dum = pd.get_dummies(data=merged, columns=['model', 'transmission', 'fuelType'])"
   ]
  },
  {
   "cell_type": "code",
   "execution_count": 6,
   "metadata": {},
   "outputs": [],
   "source": [
    "#Standardizing\n",
    "merge_dum['engineSize'] = (merge_dum['engineSize']-merge_dum['engineSize'].min())/(merge_dum['engineSize'].max()-merge_dum['engineSize'].min())\n",
    "merge_dum['mpg'] = (merge_dum['mpg']-merge_dum['mpg'].min())/(merge_dum['mpg'].max()-merge_dum['mpg'].min())\n",
    "merge_dum['tax'] = (merge_dum['tax']-merge_dum['tax'].min())/(merge_dum['tax'].max()-merge_dum['tax'].min())\n",
    "merge_dum['year'] = (merge_dum['year']-merge_dum['year'].min())/(merge_dum['year'].max()-merge_dum['year'].min())\n",
    "\n",
    "#Special Case might be adjusted\n",
    "merge_dum['mileage'] = (merge_dum['mileage']-merge_dum['mileage'].min())/(merge_dum['mileage'].max()-merge_dum['mileage'].min())"
   ]
  },
  {
   "cell_type": "code",
   "execution_count": 7,
   "metadata": {},
   "outputs": [],
   "source": [
    "merge_dum['mileage']=merge_dum['mileage']*4\n",
    "merge_dum['year']=merge_dum['year']*4\n"
   ]
  },
  {
   "cell_type": "code",
   "execution_count": null,
   "metadata": {},
   "outputs": [],
   "source": []
  }
 ],
 "metadata": {
  "kernelspec": {
   "display_name": "Python 3",
   "language": "python",
   "name": "python3"
  },
  "language_info": {
   "codemirror_mode": {
    "name": "ipython",
    "version": 3
   },
   "file_extension": ".py",
   "mimetype": "text/x-python",
   "name": "python",
   "nbconvert_exporter": "python",
   "pygments_lexer": "ipython3",
   "version": "3.8.0"
  },
  "orig_nbformat": 4
 },
 "nbformat": 4,
 "nbformat_minor": 2
}
